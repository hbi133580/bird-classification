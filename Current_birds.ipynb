{
  "nbformat": 4,
  "nbformat_minor": 0,
  "metadata": {
    "colab": {
      "name": "Current birds.ipynb",
      "provenance": [],
      "collapsed_sections": [],
      "include_colab_link": true
    },
    "kernelspec": {
      "name": "python3",
      "display_name": "Python 3"
    },
    "accelerator": "GPU"
  },
  "cells": [
    {
      "cell_type": "markdown",
      "metadata": {
        "id": "view-in-github",
        "colab_type": "text"
      },
      "source": [
        "<a href=\"https://colab.research.google.com/github/hbi133580/bird-classification/blob/main/Current_birds.ipynb\" target=\"_parent\"><img src=\"https://colab.research.google.com/assets/colab-badge.svg\" alt=\"Open In Colab\"/></a>"
      ]
    },
    {
      "cell_type": "markdown",
      "metadata": {
        "id": "vbofKsUDKikQ"
      },
      "source": [
        "# Setup"
      ]
    },
    {
      "cell_type": "code",
      "metadata": {
        "id": "UELbIXGOFQPn",
        "colab": {
          "base_uri": "https://localhost:8080/"
        },
        "outputId": "851ae597-b160-40a3-a32f-ff242db780bc"
      },
      "source": [
        "# Mount google drive to access data\r\n",
        "from google.colab import drive\r\n",
        "drive.mount('/content/drive')"
      ],
      "execution_count": null,
      "outputs": [
        {
          "output_type": "stream",
          "text": [
            "Mounted at /content/drive\n"
          ],
          "name": "stdout"
        }
      ]
    },
    {
      "cell_type": "code",
      "metadata": {
        "id": "fiFiLSMunow5"
      },
      "source": [
        "# Upload images to Colab disk to speed up training\r\n",
        "# Much faster than reading from google drive\r\n",
        "! 7z x /content/drive/MyDrive/256x256.zip -o/content/256x256"
      ],
      "execution_count": null,
      "outputs": []
    },
    {
      "cell_type": "code",
      "metadata": {
        "colab": {
          "base_uri": "https://localhost:8080/"
        },
        "id": "LV18_VJCx6gY",
        "outputId": "93a93ff4-4cef-4278-d5f7-d2da549587e7"
      },
      "source": [
        "import pandas as pd \r\n",
        "\r\n",
        "from PIL import Image\r\n",
        "\r\n",
        "import matplotlib.pyplot as plt\r\n",
        "\r\n",
        "import torch\r\n",
        "from torch.utils.data import Dataset, DataLoader\r\n",
        "\r\n",
        "import torchvision\r\n",
        "from torchvision import datasets, models, transforms\r\n",
        "\r\n",
        "from sklearn.model_selection import train_test_split\r\n",
        "\r\n",
        "\r\n",
        "device = torch.device('cuda:0' if torch.cuda.is_available() else 'cpu')\r\n",
        "print(device)"
      ],
      "execution_count": null,
      "outputs": [
        {
          "output_type": "stream",
          "text": [
            "cuda:0\n"
          ],
          "name": "stdout"
        }
      ]
    },
    {
      "cell_type": "markdown",
      "metadata": {
        "id": "-lWHlCtdeEmC"
      },
      "source": [
        "# Prepare data\r\n",
        "\r\n",
        "All pre-trained models expect input images normalized in the same way, i.e. mini-batches of 3-channel RGB images of shape (3 x H x W), where H and W are expected to be at least 224. The images have to be loaded in to a range of [0, 1] and then normalized using mean = [0.485, 0.456, 0.406] and std = [0.229, 0.224, 0.225]."
      ]
    },
    {
      "cell_type": "code",
      "metadata": {
        "id": "rO8WcUReFitA"
      },
      "source": [
        "# Location for training, testing data\r\n",
        "labels = pd.read_csv('/content/drive/MyDrive/birds21wi/labels.csv')\r\n",
        "submission = pd.read_csv('/content/drive/MyDrive/birds21wi/sample.csv')\r\n",
        "\r\n",
        "train_path = '/content/256x256'\r\n",
        "test_path = '/content/256x256test'\r\n",
        "\r\n",
        "# Hyper parameters\r\n",
        "num_epochs = 9\r\n",
        "batch_size = 32\r\n",
        "learning_rate = 0.01\r\n",
        "decay = 0\r\n",
        "dropout = 0\r\n",
        "momentum = 0.7\r\n",
        "\r\n",
        "img_size = 256\r\n",
        "num_classes = 555"
      ],
      "execution_count": null,
      "outputs": []
    },
    {
      "cell_type": "code",
      "metadata": {
        "id": "R1soIiMfyK9h"
      },
      "source": [
        "class BirdDataset(Dataset):\r\n",
        "    def __init__(self, data, path , transform = None):\r\n",
        "        super().__init__()\r\n",
        "        self.data = data.values\r\n",
        "        self.path = path\r\n",
        "        self.transform = transform\r\n",
        "        \r\n",
        "    def __len__(self):\r\n",
        "        return len(self.data)\r\n",
        "    \r\n",
        "    def __getitem__(self,index):\r\n",
        "        img_name,label = self.data[index]\r\n",
        "        \r\n",
        "        img_path = os.path.join(self.path, img_name)\r\n",
        "        \r\n",
        "        image = Image.open(img_path)\r\n",
        "        if (image.mode != 'RGB'):\r\n",
        "            image = image.convert(\"RGB\")\r\n",
        "\r\n",
        "        if self.transform is not None:\r\n",
        "            image = self.transform(image)\r\n",
        "        return image, label"
      ],
      "execution_count": null,
      "outputs": []
    },
    {
      "cell_type": "code",
      "metadata": {
        "id": "aencCMCjydss"
      },
      "source": [
        "# Get data\r\n",
        "\r\n",
        "# Normalization values expected by ResNet\r\n",
        "train_transform = transforms.Compose([transforms.RandomCrop(img_size, padding=8, padding_mode='edge'), # Take crops from padded images\r\n",
        "                                      transforms.RandomHorizontalFlip(), # 50% of time flip image along y-axis\r\n",
        "                                      transforms.ToTensor(),\r\n",
        "                                      transforms.Normalize(mean=[0.485, 0.456, 0.406], std=[0.229, 0.224, 0.225])])\r\n",
        "\r\n",
        "valid_transform = transforms.Compose([transforms.ToTensor(),\r\n",
        "                                      transforms.Normalize(mean=[0.485, 0.456, 0.406], std=[0.229, 0.224, 0.225])])\r\n",
        "\r\n",
        "test_transform = transforms.Compose([#transforms.Resize((img_size, img_size)),\r\n",
        "                                      transforms.ToTensor(),\r\n",
        "                                      transforms.Normalize(mean=[0.485, 0.456, 0.406], std=[0.229, 0.224, 0.225])])\r\n",
        "\r\n",
        "\r\n",
        "train, valid = train_test_split(labels, test_size=0.2)\r\n",
        "\r\n",
        "train_data = BirdDataset(train, train_path, train_transform)\r\n",
        "valid_data = BirdDataset(valid, train_path, valid_transform)\r\n",
        "test_data = BirdDataset(submission, test_path, test_transform)\r\n",
        "\r\n",
        "train_loader = DataLoader(dataset = train_data, batch_size = batch_size, shuffle=True)\r\n",
        "valid_loader = DataLoader(dataset = valid_data, batch_size = batch_size, shuffle=False)\r\n",
        "test_loader = DataLoader(dataset = test_data, batch_size = batch_size, shuffle=False)\r\n"
      ],
      "execution_count": null,
      "outputs": []
    },
    {
      "cell_type": "markdown",
      "metadata": {
        "id": "CBceo0eed5mA"
      },
      "source": [
        "# Net"
      ]
    },
    {
      "cell_type": "code",
      "metadata": {
        "id": "J2BLiLGueRnP"
      },
      "source": [
        "class SimpleNet(nn.Module):\r\n",
        "    def __init__(self, inputs=img_size*img_size*3, hidden=512, outputs=num_classes):\r\n",
        "        super(SimpleNet, self).__init__()\r\n",
        "        self.fc1 = nn.Linear(inputs, hidden) # fully connected:\r\n",
        "        # every neuron in this layer is fully connected to attaching neurons\r\n",
        "        self.fc2 = nn.Linear(hidden, outputs)\r\n",
        "\r\n",
        "    def forward(self, x):\r\n",
        "        x = torch.flatten(x, 1)\r\n",
        "        x = self.fc1(x)\r\n",
        "        x = F.relu(x)  # activaction function, allows for non-linearity\r\n",
        "        x = self.fc2(x)\r\n",
        "        return x"
      ],
      "execution_count": null,
      "outputs": []
    },
    {
      "cell_type": "code",
      "metadata": {
        "id": "oeOLISUddywK"
      },
      "source": [
        "class CNN(nn.Module): \r\n",
        "    def __init__(self):\r\n",
        "        super(CNN, self).__init__()\r\n",
        "        self.conv1 = nn.Conv2d(in_channels=3, out_channels=10, kernel_size=3)\r\n",
        "        self.conv2 = nn.Conv2d(10, 20, kernel_size=3)\r\n",
        "        self.conv2_drop = nn.Dropout2d()\r\n",
        "        self.fc1 = nn.Linear(720, 1024)\r\n",
        "        self.fc2 = nn.Linear(1024, num_classes)\r\n",
        "\r\n",
        "    def forward(self, x):\r\n",
        "        x = F.relu(F.max_pool2d(self.conv1(x), 2))\r\n",
        "        x = F.relu(F.max_pool2d(self.conv2_drop(self.conv2(x)), 2))\r\n",
        "        x = x.view(x.shape[0],-1)\r\n",
        "        x = F.relu(self.fc1(x))\r\n",
        "        x = F.dropout(x, training=self.training)\r\n",
        "        x = self.fc2(x)\r\n",
        "        return x"
      ],
      "execution_count": null,
      "outputs": []
    },
    {
      "cell_type": "code",
      "metadata": {
        "id": "O0L2uJY2PivS"
      },
      "source": [
        "def get_pretrained_ResNet():\r\n",
        "    pretrained_model = models.resnet34(pretrained=True)\r\n",
        "    num_features = pretrained_model.fc.in_features # num input features for the last layer\r\n",
        "\r\n",
        "    pretrained_model.fc = nn.Sequential(\r\n",
        "        nn.Dropout(dropout),\r\n",
        "        nn.Linear(num_features, num_classes)\r\n",
        "    )\r\n",
        "    return pretrained_model"
      ],
      "execution_count": null,
      "outputs": []
    },
    {
      "cell_type": "markdown",
      "metadata": {
        "id": "WxnOI6qYeAe3"
      },
      "source": [
        "# Train"
      ]
    },
    {
      "cell_type": "code",
      "metadata": {
        "id": "pE7HH-dXdijt"
      },
      "source": [
        "model = get_pretrained_ResNet().to(device)\r\n",
        "\r\n",
        "criterion = nn.CrossEntropyLoss()\r\n",
        "optimizer = torch.optim.SGD(model.parameters(),lr = learning_rate, momentum=momentum, weight_decay=decay, nesterov=True)\r\n",
        "\r\n",
        "scheduler = torch.optim.lr_scheduler.MultiStepLR(optimizer, milestones=[6], gamma=0.1)\r\n",
        "\r\n",
        "verbose = False # whether to print out loss between epochs\r\n",
        "\r\n",
        "# keeping-track-of-losses \r\n",
        "train_losses = []\r\n",
        "valid_losses = []\r\n",
        "\r\n",
        "i = 0\r\n",
        "for epoch in range(1, num_epochs + 1):\r\n",
        "    # keep-track-of-training-and-validation-loss\r\n",
        "    train_loss = 0.0\r\n",
        "    valid_loss = 0.0\r\n",
        "    \r\n",
        "    my_loss = 0.0\r\n",
        "\r\n",
        "    # training-the-model\r\n",
        "    model.train()\r\n",
        "    for data, target in train_loader:\r\n",
        "        # move-tensors-to-GPU \r\n",
        "        data = data.to(device)\r\n",
        "        target = target.to(device)\r\n",
        "        \r\n",
        "        # clear-the-gradients-of-all-optimized-variables\r\n",
        "        optimizer.zero_grad()\r\n",
        "        # forward-pass: compute-predicted-outputs-by-passing-inputs-to-the-model\r\n",
        "        output = model(data)\r\n",
        "        # calculate-the-batch-loss\r\n",
        "        loss = criterion(output, target)\r\n",
        "        # backward-pass: compute-gradient-of-the-loss-wrt-model-parameters\r\n",
        "        loss.backward()\r\n",
        "        # perform-a-ingle-optimization-step (parameter-update)\r\n",
        "        optimizer.step()\r\n",
        "        # update-training-loss\r\n",
        "        train_loss += loss.item() * data.size(0)\r\n",
        "\r\n",
        "        my_loss += loss.item()\r\n",
        "        \r\n",
        "        if i % 300 == 299:    # print every 300 mini-batches\r\n",
        "            if verbose:\r\n",
        "                print('[%d, %5d] loss: %.3f' %(epoch, i + 1, my_loss / 300))\r\n",
        "            my_loss = 0.0\r\n",
        "        i = i + 1\r\n",
        "        \r\n",
        "    # validate-the-model\r\n",
        "    model.eval()\r\n",
        "    for data, target in valid_loader:\r\n",
        "        data = data.to(device)\r\n",
        "        target = target.to(device)\r\n",
        "        \r\n",
        "        output = model(data)\r\n",
        "        \r\n",
        "        loss = criterion(output, target)\r\n",
        "        \r\n",
        "        # update-average-validation-loss \r\n",
        "        valid_loss += loss.item() * data.size(0)\r\n",
        "    \r\n",
        "    # calculate-average-losses\r\n",
        "    train_loss = train_loss/len(train_loader.sampler)\r\n",
        "    valid_loss = valid_loss/len(valid_loader.sampler)\r\n",
        "    train_losses.append(train_loss)\r\n",
        "    valid_losses.append(valid_loss)\r\n",
        "    \r\n",
        "    # update learning rate\r\n",
        "    scheduler.step()\r\n",
        "\r\n",
        "    # print-training/validation-statistics \r\n",
        "    print('Epoch: {} \\tTraining Loss: {:.6f} \\tValidation Loss: {:.6f}'.format(epoch, train_loss, valid_loss))"
      ],
      "execution_count": null,
      "outputs": []
    },
    {
      "cell_type": "markdown",
      "metadata": {
        "id": "qKCMrARPQra4"
      },
      "source": [
        "# Testing\r\n",
        "Getting training and testing accuracy"
      ]
    },
    {
      "cell_type": "code",
      "metadata": {
        "id": "wlYxvyIWV82Y",
        "colab": {
          "base_uri": "https://localhost:8080/",
          "height": 295
        },
        "outputId": "a660a1ff-f401-41ec-dbd1-b263953da4b4"
      },
      "source": [
        "%matplotlib inline\r\n",
        "%config InlineBackend.figure_format = 'retina'\r\n",
        "\r\n",
        "plt.plot(train_losses, label='Training loss')\r\n",
        "plt.plot(valid_losses, label='Validation loss')\r\n",
        "plt.xlabel(\"Epochs\")\r\n",
        "plt.ylabel(\"Loss\")\r\n",
        "plt.legend(frameon=False)"
      ],
      "execution_count": null,
      "outputs": [
        {
          "output_type": "execute_result",
          "data": {
            "text/plain": [
              "<matplotlib.legend.Legend at 0x7fb904ab4e90>"
            ]
          },
          "metadata": {
            "tags": []
          },
          "execution_count": 117
        },
        {
          "output_type": "display_data",
          "data": {
            "image/png": "[encoded data removed]",
            "text/plain": [
              "<Figure size 432x288 with 1 Axes>"
            ]
          },
          "metadata": {
            "tags": [],
            "image/png": {
              "width": 385,
              "height": 261
            },
            "needs_background": "light"
          }
        }
      ]
    },
    {
      "cell_type": "code",
      "metadata": {
        "id": "r7cO1d5KV3Re",
        "colab": {
          "base_uri": "https://localhost:8080/"
        },
        "outputId": "0531c410-8b1b-42f9-8a60-a71d5b528bfb"
      },
      "source": [
        "# Check testing accuracy\r\n",
        "model.eval()  # it-disables-dropout, batch norm etc\r\n",
        "with torch.no_grad():\r\n",
        "    correct = 0\r\n",
        "    total = 0\r\n",
        "    for images, labels in valid_loader:\r\n",
        "        images = images.to(device)\r\n",
        "        labels = labels.to(device)\r\n",
        "        outputs = model(images)\r\n",
        "        _, predicted = torch.max(outputs.data, 1)\r\n",
        "        total += labels.size(0)\r\n",
        "        correct += (predicted == labels).sum().item()\r\n",
        "\r\n",
        "    print('Test Accuracy of the model: {} %'.format(100 * correct / total))\r\n",
        "\r\n",
        "# Save \r\n",
        "torch.save(model.state_dict(), 'model.ckpt')"
      ],
      "execution_count": null,
      "outputs": [
        {
          "output_type": "stream",
          "text": [
            "Test Accuracy of the model: 78.85388305458316 %\n"
          ],
          "name": "stdout"
        }
      ]
    },
    {
      "cell_type": "code",
      "metadata": {
        "id": "1o4f4vvt0ZH2",
        "colab": {
          "base_uri": "https://localhost:8080/"
        },
        "outputId": "28e9d8bc-884e-4220-d573-03a864d0e940"
      },
      "source": [
        "# Check training accuracy\r\n",
        "model.eval()  # it-disables-dropout, batch norm etc\r\n",
        "with torch.no_grad():\r\n",
        "    correct = 0\r\n",
        "    total = 0\r\n",
        "    for images, labels in train_loader:\r\n",
        "        images = images.to(device)\r\n",
        "        labels = labels.to(device)\r\n",
        "        outputs = model(images)\r\n",
        "        _, predicted = torch.max(outputs.data, 1)\r\n",
        "        total += labels.size(0)\r\n",
        "        correct += (predicted == labels).sum().item()\r\n",
        "          \r\n",
        "    print('Train Accuracy of the model: {} %'.format(100 * correct / total))\r\n",
        "\r\n",
        "# Save \r\n",
        "torch.save(model.state_dict(), 'model.ckpt')"
      ],
      "execution_count": null,
      "outputs": [
        {
          "output_type": "stream",
          "text": [
            "Train Accuracy of the model: 97.54611170540375 %\n"
          ],
          "name": "stdout"
        }
      ]
    },
    {
      "cell_type": "markdown",
      "metadata": {
        "id": "vaOrsNhLQfme"
      },
      "source": [
        "# Get Test Predictions\r\n",
        "(for Kaggle)"
      ]
    },
    {
      "cell_type": "code",
      "metadata": {
        "id": "B2A0-Ukwz7k6",
        "colab": {
          "base_uri": "https://localhost:8080/"
        },
        "outputId": "0cca9f75-b106-4735-f5d1-04dc132ef9e7"
      },
      "source": [
        "# Open a previously trained model\r\n",
        "model = pretrained_model.to(device)\r\n",
        "model.load_state_dict(torch.load('/content/drive/MyDrive/model_9_epoch.ckpt'))"
      ],
      "execution_count": null,
      "outputs": [
        {
          "output_type": "execute_result",
          "data": {
            "text/plain": [
              "<All keys matched successfully>"
            ]
          },
          "metadata": {
            "tags": []
          },
          "execution_count": 99
        }
      ]
    },
    {
      "cell_type": "code",
      "metadata": {
        "id": "dPM8PQYcsSl5"
      },
      "source": [
        "# Get previous predictions\r\n",
        "model.eval()  # it-disables-dropout, batch norm etc\r\n",
        "test_predictions = []\r\n",
        "i = 0\r\n",
        "with torch.no_grad():\r\n",
        "    for images, labels in test_loader:\r\n",
        "        images = images.to(device)\r\n",
        "        labels = labels.to(device)\r\n",
        "        outputs = model(images)\r\n",
        "        _, predicted = torch.max(outputs.data, 1)\r\n",
        "        test_predictions += predicted.tolist()\r\n",
        "        if (i % 100 == 0):\r\n",
        "            print(i)\r\n",
        "        i = i + 1\r\n",
        "\r\n"
      ],
      "execution_count": null,
      "outputs": []
    },
    {
      "cell_type": "code",
      "metadata": {
        "id": "YuQisnHl1TfA"
      },
      "source": [
        "# Write predictions to csv file for submission\r\n",
        "import csv\r\n",
        "\r\n",
        "with open('/content/predictions.csv', 'w') as f:\r\n",
        "    writer = csv.writer(f)\r\n",
        "    for val in test_predictions:\r\n",
        "        writer.writerow([val])"
      ],
      "execution_count": null,
      "outputs": []
    }
  ]
}